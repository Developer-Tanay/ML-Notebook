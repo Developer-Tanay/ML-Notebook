{
 "cells": [
  {
   "cell_type": "code",
   "execution_count": 21,
   "id": "5ee0f673-d194-4fb9-9258-e1949b3487cc",
   "metadata": {},
   "outputs": [],
   "source": [
    "import pandas as pd\n",
    "import seaborn as sns\n",
    "import matplotlib.pyplot as plt"
   ]
  },
  {
   "cell_type": "code",
   "execution_count": 30,
   "id": "2320dd67-2f08-47e6-a672-80ffab1599d3",
   "metadata": {},
   "outputs": [
    {
     "data": {
      "text/html": [
       "<div>\n",
       "<style scoped>\n",
       "    .dataframe tbody tr th:only-of-type {\n",
       "        vertical-align: middle;\n",
       "    }\n",
       "\n",
       "    .dataframe tbody tr th {\n",
       "        vertical-align: top;\n",
       "    }\n",
       "\n",
       "    .dataframe thead th {\n",
       "        text-align: right;\n",
       "    }\n",
       "</style>\n",
       "<table border=\"1\" class=\"dataframe\">\n",
       "  <thead>\n",
       "    <tr style=\"text-align: right;\">\n",
       "      <th></th>\n",
       "      <th>Loan_ID</th>\n",
       "      <th>Gender</th>\n",
       "      <th>Married</th>\n",
       "      <th>Dependents</th>\n",
       "      <th>Education</th>\n",
       "      <th>Self_Employed</th>\n",
       "      <th>ApplicantIncome</th>\n",
       "      <th>CoapplicantIncome</th>\n",
       "      <th>LoanAmount</th>\n",
       "      <th>Loan_Amount_Term</th>\n",
       "      <th>Credit_History</th>\n",
       "      <th>Property_Area</th>\n",
       "      <th>Loan_Status</th>\n",
       "    </tr>\n",
       "  </thead>\n",
       "  <tbody>\n",
       "    <tr>\n",
       "      <th>0</th>\n",
       "      <td>LP001002</td>\n",
       "      <td>Male</td>\n",
       "      <td>No</td>\n",
       "      <td>0.0</td>\n",
       "      <td>Graduate</td>\n",
       "      <td>No</td>\n",
       "      <td>5849.0</td>\n",
       "      <td>0.0</td>\n",
       "      <td>NaN</td>\n",
       "      <td>360.0</td>\n",
       "      <td>1.0</td>\n",
       "      <td>Urban</td>\n",
       "      <td>Y</td>\n",
       "    </tr>\n",
       "    <tr>\n",
       "      <th>1</th>\n",
       "      <td>LP001003</td>\n",
       "      <td>Male</td>\n",
       "      <td>Yes</td>\n",
       "      <td>1.0</td>\n",
       "      <td>Graduate</td>\n",
       "      <td>No</td>\n",
       "      <td>4583.0</td>\n",
       "      <td>1508.0</td>\n",
       "      <td>128.0</td>\n",
       "      <td>360.0</td>\n",
       "      <td>1.0</td>\n",
       "      <td>Rural</td>\n",
       "      <td>N</td>\n",
       "    </tr>\n",
       "    <tr>\n",
       "      <th>2</th>\n",
       "      <td>LP001005</td>\n",
       "      <td>Male</td>\n",
       "      <td>Yes</td>\n",
       "      <td>0.0</td>\n",
       "      <td>Graduate</td>\n",
       "      <td>Yes</td>\n",
       "      <td>3000.0</td>\n",
       "      <td>0.0</td>\n",
       "      <td>66.0</td>\n",
       "      <td>360.0</td>\n",
       "      <td>1.0</td>\n",
       "      <td>Urban</td>\n",
       "      <td>Y</td>\n",
       "    </tr>\n",
       "  </tbody>\n",
       "</table>\n",
       "</div>"
      ],
      "text/plain": [
       "    Loan_ID Gender Married  Dependents Education Self_Employed  \\\n",
       "0  LP001002   Male      No         0.0  Graduate            No   \n",
       "1  LP001003   Male     Yes         1.0  Graduate            No   \n",
       "2  LP001005   Male     Yes         0.0  Graduate           Yes   \n",
       "\n",
       "   ApplicantIncome  CoapplicantIncome  LoanAmount  Loan_Amount_Term  \\\n",
       "0           5849.0                0.0         NaN             360.0   \n",
       "1           4583.0             1508.0       128.0             360.0   \n",
       "2           3000.0                0.0        66.0             360.0   \n",
       "\n",
       "   Credit_History Property_Area Loan_Status  \n",
       "0             1.0         Urban           Y  \n",
       "1             1.0         Rural           N  \n",
       "2             1.0         Urban           Y  "
      ]
     },
     "execution_count": 30,
     "metadata": {},
     "output_type": "execute_result"
    }
   ],
   "source": [
    "dataset = pd.read_csv(\"loan.csv\")\n",
    "dataset.head(3)"
   ]
  },
  {
   "cell_type": "code",
   "execution_count": 31,
   "id": "96017d0f-acd5-4b6c-9c4e-4f88b35eab60",
   "metadata": {},
   "outputs": [
    {
     "data": {
      "text/plain": [
       "Loan_ID               0\n",
       "Gender               13\n",
       "Married               6\n",
       "Dependents           15\n",
       "Education             9\n",
       "Self_Employed        32\n",
       "ApplicantIncome       2\n",
       "CoapplicantIncome     0\n",
       "LoanAmount           22\n",
       "Loan_Amount_Term     21\n",
       "Credit_History       50\n",
       "Property_Area         9\n",
       "Loan_Status           0\n",
       "dtype: int64"
      ]
     },
     "execution_count": 31,
     "metadata": {},
     "output_type": "execute_result"
    }
   ],
   "source": [
    "dataset.isnull().sum()"
   ]
  },
  {
   "cell_type": "code",
   "execution_count": 32,
   "id": "42a6a369-56d2-4d22-a0e4-51e887b381b9",
   "metadata": {},
   "outputs": [
    {
     "name": "stdout",
     "output_type": "stream",
     "text": [
      "<class 'pandas.core.frame.DataFrame'>\n",
      "RangeIndex: 598 entries, 0 to 597\n",
      "Data columns (total 13 columns):\n",
      " #   Column             Non-Null Count  Dtype  \n",
      "---  ------             --------------  -----  \n",
      " 0   Loan_ID            598 non-null    object \n",
      " 1   Gender             585 non-null    object \n",
      " 2   Married            592 non-null    object \n",
      " 3   Dependents         583 non-null    float64\n",
      " 4   Education          589 non-null    object \n",
      " 5   Self_Employed      566 non-null    object \n",
      " 6   ApplicantIncome    596 non-null    float64\n",
      " 7   CoapplicantIncome  598 non-null    float64\n",
      " 8   LoanAmount         576 non-null    float64\n",
      " 9   Loan_Amount_Term   577 non-null    float64\n",
      " 10  Credit_History     548 non-null    float64\n",
      " 11  Property_Area      589 non-null    object \n",
      " 12  Loan_Status        598 non-null    object \n",
      "dtypes: float64(6), object(7)\n",
      "memory usage: 60.9+ KB\n"
     ]
    }
   ],
   "source": [
    "dataset.info()"
   ]
  },
  {
   "cell_type": "code",
   "execution_count": null,
   "id": "1b4f10e7-34f5-41c9-b61b-656b018af8a9",
   "metadata": {},
   "outputs": [],
   "source": []
  },
  {
   "cell_type": "code",
   "execution_count": 20,
   "id": "e972df7b-5451-4506-8222-3ed5ae0e0696",
   "metadata": {},
   "outputs": [],
   "source": [
    "# The process to fill the missing Numerical data starts here "
   ]
  },
  {
   "cell_type": "code",
   "execution_count": 33,
   "id": "2bd0622c-df7f-4e6c-8665-f4915ce6d882",
   "metadata": {},
   "outputs": [
    {
     "data": {
      "text/plain": [
       "Index(['Dependents', 'ApplicantIncome', 'CoapplicantIncome', 'LoanAmount',\n",
       "       'Loan_Amount_Term', 'Credit_History'],\n",
       "      dtype='object')"
      ]
     },
     "execution_count": 33,
     "metadata": {},
     "output_type": "execute_result"
    }
   ],
   "source": [
    "dataset.select_dtypes(include=\"float64\").columns"
   ]
  },
  {
   "cell_type": "code",
   "execution_count": 34,
   "id": "0df08162-facd-473d-89f7-c06e1e47a8f6",
   "metadata": {},
   "outputs": [],
   "source": [
    "from sklearn.impute import SimpleImputer"
   ]
  },
  {
   "cell_type": "code",
   "execution_count": 37,
   "id": "d3034d89-f74f-4d27-ad07-cbe1adc31463",
   "metadata": {},
   "outputs": [],
   "source": [
    "si = SimpleImputer(strategy=\"mean\")\n",
    "ar = si.fit_transform(dataset[['Dependents', 'ApplicantIncome', 'CoapplicantIncome', 'LoanAmount',\n",
    "       'Loan_Amount_Term', 'Credit_History']])"
   ]
  },
  {
   "cell_type": "code",
   "execution_count": 38,
   "id": "c08b85e9-913c-49fd-a080-2fc4c23e3c42",
   "metadata": {},
   "outputs": [],
   "source": [
    "new_dataset = pd.DataFrame(ar,columns=dataset.select_dtypes(include=\"float64\").columns)"
   ]
  },
  {
   "cell_type": "code",
   "execution_count": 39,
   "id": "1014ef99-8c9e-4e66-a7d0-19c1af0638a9",
   "metadata": {},
   "outputs": [
    {
     "data": {
      "text/plain": [
       "Dependents           0\n",
       "ApplicantIncome      0\n",
       "CoapplicantIncome    0\n",
       "LoanAmount           0\n",
       "Loan_Amount_Term     0\n",
       "Credit_History       0\n",
       "dtype: int64"
      ]
     },
     "execution_count": 39,
     "metadata": {},
     "output_type": "execute_result"
    }
   ],
   "source": [
    "new_dataset.isnull().sum()"
   ]
  },
  {
   "cell_type": "code",
   "execution_count": null,
   "id": "84d9fe60-816c-4e75-a2ec-1597c6f6a560",
   "metadata": {},
   "outputs": [],
   "source": []
  }
 ],
 "metadata": {
  "kernelspec": {
   "display_name": "Python (exp_learning)",
   "language": "python",
   "name": "exp_learning"
  },
  "language_info": {
   "codemirror_mode": {
    "name": "ipython",
    "version": 3
   },
   "file_extension": ".py",
   "mimetype": "text/x-python",
   "name": "python",
   "nbconvert_exporter": "python",
   "pygments_lexer": "ipython3",
   "version": "3.10.10"
  }
 },
 "nbformat": 4,
 "nbformat_minor": 5
}
